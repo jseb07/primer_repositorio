{
 "cells": [
  {
   "cell_type": "code",
   "execution_count": 14,
   "metadata": {},
   "outputs": [
    {
     "ename": "NameError",
     "evalue": "name 'f' is not defined",
     "output_type": "error",
     "traceback": [
      "\u001b[1;31m---------------------------------------------------------------------------\u001b[0m",
      "\u001b[1;31mNameError\u001b[0m                                 Traceback (most recent call last)",
      "Cell \u001b[1;32mIn[14], line 6\u001b[0m\n\u001b[0;32m      1\u001b[0m \u001b[38;5;66;03m#Mayor de edad:\u001b[39;00m\n\u001b[0;32m      2\u001b[0m \u001b[38;5;66;03m#Pide al usuario su año de nacimiento.\u001b[39;00m\n\u001b[0;32m      3\u001b[0m \u001b[38;5;66;03m#Calcula su edad y determina si es mayor de edad.\u001b[39;00m\n\u001b[0;32m      4\u001b[0m \u001b[38;5;66;03m#Retos avanzados\u001b[39;00m\n\u001b[1;32m----> 6\u001b[0m añoDeNacimiento\u001b[38;5;241m=\u001b[39m\u001b[38;5;28mint\u001b[39m(\u001b[38;5;28minput\u001b[39m(\u001b[43mf\u001b[49m()))\n\u001b[0;32m     11\u001b[0m edad\u001b[38;5;241m=\u001b[39mañoDeNacimiento\n\u001b[0;32m     12\u001b[0m añoact\u001b[38;5;241m=\u001b[39m\u001b[38;5;241m2024\u001b[39m\n",
      "\u001b[1;31mNameError\u001b[0m: name 'f' is not defined"
     ]
    }
   ],
   "source": [
    "#Mayor de edad:\n",
    "#Pide al usuario su año de nacimiento.\n",
    "#Calcula su edad y determina si es mayor de edad.\n",
    "#Retos avanzados\n",
    "\n",
    "añoDeNacimiento=int(input(f()))\n",
    "\n",
    "\n",
    "\n",
    "\n",
    "edad=añoDeNacimiento\n",
    "añoact=2024\n",
    "if edad >= 18:\n",
    "    print(\"usted es mayor de edad\")\n",
    "else: \n",
    "    print(\"usted es menor, vaya pa la casa\")"
   ]
  },
  {
   "cell_type": "code",
   "execution_count": 13,
   "metadata": {},
   "outputs": [
    {
     "name": "stdout",
     "output_type": "stream",
     "text": [
      "Puedes entrar ya eres mayot\n"
     ]
    }
   ],
   "source": [
    "añoDeNacimiento=int(input(\"ingrese su edad: \"))\n",
    "\n",
    "\n",
    "if añoDeNacimiento >=18:\n",
    "    print(\"Puedes entrar ya eres mayor\")\n",
    "else:\n",
    "    print(\"anda a jugar con muñequitos\")"
   ]
  },
  {
   "cell_type": "code",
   "execution_count": null,
   "metadata": {},
   "outputs": [],
   "source": [
    "##Clasificación de triángulos:\n",
    "Pide al usuario las longitudes de los tres lados de un triángulo.\n",
    "Determina si es un triángulo válido y clasifícalo como equilátero, isósceles o escaleno.#"
   ]
  }
 ],
 "metadata": {
  "kernelspec": {
   "display_name": "Python 3",
   "language": "python",
   "name": "python3"
  },
  "language_info": {
   "codemirror_mode": {
    "name": "ipython",
    "version": 3
   },
   "file_extension": ".py",
   "mimetype": "text/x-python",
   "name": "python",
   "nbconvert_exporter": "python",
   "pygments_lexer": "ipython3",
   "version": "3.12.2"
  }
 },
 "nbformat": 4,
 "nbformat_minor": 2
}
